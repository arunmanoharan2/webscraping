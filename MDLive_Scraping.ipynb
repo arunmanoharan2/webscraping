{
 "cells": [
  {
   "cell_type": "code",
   "execution_count": 73,
   "metadata": {},
   "outputs": [],
   "source": [
    "# Goal of this program is to scrap all the MDLive reviews and tag it based on rating, date, customer location\n",
    "\n",
    "import webbrowser, sys, requests, bs4\n",
    "import pandas as pd"
   ]
  },
  {
   "cell_type": "code",
   "execution_count": 75,
   "metadata": {},
   "outputs": [],
   "source": [
    "review_card_div_class = \"styles_reviewCardInner__EwDq2\" # outermost class\n",
    "consumer_name_class=\"styles_consumerInfoWrapper__KP3Ra\"\n",
    "ratings_value_div_class=\"styles_reviewHeader__iU9Px\"\n",
    "review_heading_class=\"typography_heading-s__f7029 typography_appearance-default__AAY17\"\n",
    "review_paragraph_class=\"typography_body-l__KUYFJ typography_appearance-default__AAY17 typography_color-black__5LYEn\"\n",
    "review_date_class=\"typography_body-m__xgxZ_ typography_appearance-default__AAY17\"\n",
    "reply_info_class = \"typography_body-m__xgxZ_ typography_appearance-default__AAY17 styles_message__shHhX\""
   ]
  },
  {
   "cell_type": "code",
   "execution_count": null,
   "metadata": {},
   "outputs": [],
   "source": [
    "target_num_reviews = 1000\n",
    "results_per_page = 20\n",
    "index = 1\n",
    "columns = ['Consumer Name', 'Rating', 'Review Heading', 'Review Paragraph', 'Reply Info']\n",
    "reviews_df = pd.DataFrame(columns=columns)\n",
    "\n",
    "for i in range(int(target_num_reviews/results_per_page)):\n",
    "    search_list = f\"https://www.trustpilot.com/review/mdlive.com?page={i+1}&sort=recency\"\n",
    "    #search_list = f\"https://www.trustpilot.com/review/mdlive.com?page=2&sort=recency\"\n",
    "    #print(search_list)\n",
    "    results = requests.get(search_list)\n",
    "\n",
    "    bs4_obj = bs4.BeautifulSoup(results.text, \"html.parser\")\n",
    "    reviewElemsList = bs4_obj.select('.styles_reviewCardInner__EwDq2')\n",
    "    print(\"Total reviews found: \", len(reviewElemsList))\n",
    "    print('\\n')\n",
    "\n",
    "    for j, elems in enumerate(reviewElemsList):\n",
    "        # get name\n",
    "        consumer_details_wrapper = elems.find(class_='styles_consumerInfoWrapper__KP3Ra')\n",
    "        bs4_consumer_obj = bs4.BeautifulSoup(str(consumer_details_wrapper), \"html.parser\")\n",
    "        consumer_name = bs4_consumer_obj.find('aside')['aria-label']\n",
    "\n",
    "        rating_wrapper = elems.find(class_=ratings_value_div_class)\n",
    "        bs4_rating_obj = bs4.BeautifulSoup(str(rating_wrapper), \"html.parser\")\n",
    "        review_rating = bs4_rating_obj.find('div', {'data-service-review-rating': True})['data-service-review-rating']\n",
    "        \n",
    "        # Find the h2 element with the 'data-service-review-title-typography' attribute\n",
    "        h2_wrapper = elems.find(class_=review_heading_class)\n",
    "        bs4_h2_obj = bs4.BeautifulSoup(str(h2_wrapper), \"html.parser\")\n",
    "        h2_element = bs4_h2_obj.find(class_=\"typography_heading-s__f7029 typography_appearance-default__AAY17\")\n",
    "\n",
    "        #review_paragraph_class\n",
    "        review_paragraph_wrapper = elems.find(class_=review_paragraph_class)\n",
    "        bs4_review_paragraph_obj = bs4.BeautifulSoup(str(review_paragraph_wrapper), \"html.parser\")\n",
    "        if  bs4_review_paragraph_obj.find('p') is None:\n",
    "            review_paragraph = \"\"\n",
    "        else:\n",
    "            review_paragraph = bs4_review_paragraph_obj.find('p').get_text()\n",
    "\n",
    "        #reply_info_class\n",
    "        reply_info_wrapper = elems.find(class_=reply_info_class)\n",
    "        bs4_reply_info_obj = bs4.BeautifulSoup(str(reply_info_wrapper), \"html.parser\")\n",
    "        if  bs4_reply_info_obj.find('p') is None:\n",
    "            reply_info = \"\"\n",
    "        else:\n",
    "            reply_info = bs4_reply_info_obj.find('p').get_text()\n",
    "\n",
    "        print(consumer_name)\n",
    "        #print(review_rating)\n",
    "        #print(h2_element.get_text())\n",
    "        #print(review_paragraph)\n",
    "        #print(reply_info)\n",
    "        reviews_df.loc[index] = [consumer_name, review_rating, h2_element.get_text(), review_paragraph, reply_info]\n",
    "        index += 1\n",
    "        print('\\n')\n",
    "\n"
   ]
  },
  {
   "cell_type": "code",
   "execution_count": 83,
   "metadata": {},
   "outputs": [
    {
     "name": "stdout",
     "output_type": "stream",
     "text": [
      "1000\n"
     ]
    }
   ],
   "source": [
    "print(len(reviews_df))"
   ]
  },
  {
   "cell_type": "code",
   "execution_count": 22,
   "metadata": {},
   "outputs": [
    {
     "name": "stdout",
     "output_type": "stream",
     "text": [
      "Total reviews found:  20\n"
     ]
    }
   ],
   "source": [
    "bs4_obj = bs4.BeautifulSoup(results.text, \"html.parser\")\n",
    "reviewElemsList = bs4_obj.select('.styles_reviewCardInner__EwDq2')\n",
    "print(\"Total reviews found: \", len(reviewElemsList))"
   ]
  },
  {
   "cell_type": "code",
   "execution_count": 14,
   "metadata": {},
   "outputs": [
    {
     "name": "stdout",
     "output_type": "stream",
     "text": [
      "Awful Experience!\n",
      "\n"
     ]
    }
   ],
   "source": [
    "h_list = reviewElemsList[0].find_all('h2')\n",
    "\n",
    "for h2 in h_list:\n",
    "    print(h2.text)\n",
    "    print('')"
   ]
  },
  {
   "cell_type": "code",
   "execution_count": 20,
   "metadata": {},
   "outputs": [],
   "source": [
    "div_tag = reviewElemsList[0].find('div', class_='styles_reviewHeader__iU9Px')\n",
    "rating = div_tag['data-service-review-rating']"
   ]
  },
  {
   "cell_type": "code",
   "execution_count": 21,
   "metadata": {},
   "outputs": [
    {
     "name": "stdout",
     "output_type": "stream",
     "text": [
      "1\n"
     ]
    }
   ],
   "source": [
    "print(rating)"
   ]
  },
  {
   "cell_type": "code",
   "execution_count": 16,
   "metadata": {},
   "outputs": [
    {
     "name": "stdout",
     "output_type": "stream",
     "text": [
      "I would not recommend MDLive for their counseling services. My daughter felt she needed some anxiety support to deal with some college stress so we set up an appointment with MDLive since our BC/BS policy recommended it. On her first appointment with her therapist, the therapist never showed up. It was later discovered that her therapist thought the appointment was at 11am (my daughter's appointment was at 11:30). The therapist never realized her error and berated my daughter for not showing up on time via the messaging app and then closed it out so we couldn't reply. My daughter was already upset from her anxiety so this experience just added to it.We rescheduled with another therapist and that went smoothly, but the therapist had the flu and my daughter said that there was several times that the line went quiet when the therapist should have responded. My daughter got the impression she was muting her line so she could cough. At her third appointment with this second therapist, the therapist canceled her appointment 10 mins after it was supposed to start. No reason given, she just got an automated text message saying it was cancelled.  Will not use again and will not recommend it. \n",
      "\n",
      "Date of experience: March 20, 2024\n",
      "\n",
      "Reply from MDLIVE\n",
      "\n",
      "Hello Samantha, we are so sorry to hear that you did not have a great experience with our services. At your earliest convenience please email us at letushelpyou@mdlive.com. Thank you for being a valued member.\n",
      "\n"
     ]
    }
   ],
   "source": [
    "p_list = reviewElemsList[0].find_all('p')\n",
    "for p in p_list:\n",
    "    print(p.text)\n",
    "    print('')"
   ]
  }
 ],
 "metadata": {
  "kernelspec": {
   "display_name": "Python 3",
   "language": "python",
   "name": "python3"
  },
  "language_info": {
   "codemirror_mode": {
    "name": "ipython",
    "version": 3
   },
   "file_extension": ".py",
   "mimetype": "text/x-python",
   "name": "python",
   "nbconvert_exporter": "python",
   "pygments_lexer": "ipython3",
   "version": "3.11.4"
  }
 },
 "nbformat": 4,
 "nbformat_minor": 2
}
